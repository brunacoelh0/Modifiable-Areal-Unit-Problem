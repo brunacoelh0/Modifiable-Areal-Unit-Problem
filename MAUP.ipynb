{
  "nbformat": 4,
  "nbformat_minor": 0,
  "metadata": {
    "colab": {
      "name": "MAUP",
      "provenance": [],
      "collapsed_sections": [
        "62wjhPqcZKND",
        "JQdLhQWyBwU_",
        "oUF-nyuBB3EQ",
        "Iy-WNCWGNHmL",
        "Dws_lK9ZJgtX",
        "rlBZR9t3D4zc",
        "_s4ZljhRERhw",
        "O6Ku5OKEFeW9",
        "tOJKfEga2B7n"
      ],
      "machine_shape": "hm"
    },
    "kernelspec": {
      "name": "python3",
      "display_name": "Python 3"
    },
    "accelerator": "GPU"
  },
  "cells": [
    {
      "cell_type": "markdown",
      "metadata": {
        "id": "JWTpmEbKBbVu",
        "colab_type": "text"
      },
      "source": [
        "### Setup and Initialisation"
      ]
    },
    {
      "cell_type": "markdown",
      "metadata": {
        "id": "62wjhPqcZKND",
        "colab_type": "text"
      },
      "source": [
        "##### Installing Rtree [Only for Google Colab]"
      ]
    },
    {
      "cell_type": "code",
      "metadata": {
        "id": "efUdAUzYZS9j",
        "colab_type": "code",
        "colab": {}
      },
      "source": [
        "import os\n",
        "!apt-get install -qq curl g++ make\n",
        "!curl -L http://download.osgeo.org/libspatialindex/spatialindex-src-1.8.5.tar.gz | tar xz\n",
        "os.chdir('spatialindex-src-1.8.5')\n",
        "!./configure\n",
        "!make\n",
        "!make install\n",
        "!ldconfig\n",
        "!pip install rtree\n",
        "\n",
        "#restart runtime\n",
        "os.kill(os.getpid(), 9)"
      ],
      "execution_count": 0,
      "outputs": []
    },
    {
      "cell_type": "markdown",
      "metadata": {
        "id": "JQdLhQWyBwU_",
        "colab_type": "text"
      },
      "source": [
        "##### Library Installs"
      ]
    },
    {
      "cell_type": "code",
      "metadata": {
        "id": "6gZwFhH0BTVf",
        "colab_type": "code",
        "outputId": "7b8e3c84-97af-4cea-e875-98b938b8dcc1",
        "colab": {
          "base_uri": "https://localhost:8080/"
        }
      },
      "source": [
        "!pip install h3\n",
        "!pip install geopandas\n",
        "!pip install hdbscan\n",
        "%cd drive/My\\ Drive/Data/MAUP"
      ],
      "execution_count": 0,
      "outputs": [
        {
          "output_type": "stream",
          "text": [
            "Collecting h3\n",
            "  Downloading https://files.pythonhosted.org/packages/98/2a/704b2db80465ce3a412d6c94f1c1658cffbbb4e76c5c03bb133f588cc131/h3-3.4.3.tar.gz\n",
            "Building wheels for collected packages: h3\n",
            "  Building wheel for h3 (setup.py) ... \u001b[?25l\u001b[?25hdone\n",
            "  Created wheel for h3: filename=h3-3.4.3-cp36-cp36m-linux_x86_64.whl size=81855 sha256=310c4fc52f00b1a2069b6c763163feae7b5a9ec21a7e2ed4859f446447d200e1\n",
            "  Stored in directory: /root/.cache/pip/wheels/7f/8e/74/c5ae2b6a5e3f28239b9bea822e38a08075a5eb05589a0d2a7c\n",
            "Successfully built h3\n",
            "Installing collected packages: h3\n",
            "Successfully installed h3-3.4.3\n",
            "Collecting geopandas\n",
            "\u001b[?25l  Downloading https://files.pythonhosted.org/packages/83/c5/3cf9cdc39a6f2552922f79915f36b45a95b71fd343cfc51170a5b6ddb6e8/geopandas-0.7.0-py2.py3-none-any.whl (928kB)\n",
            "\u001b[K     |████████████████████████████████| 931kB 2.8MB/s \n",
            "\u001b[?25hCollecting fiona\n",
            "\u001b[?25l  Downloading https://files.pythonhosted.org/packages/ec/20/4e63bc5c6e62df889297b382c3ccd4a7a488b00946aaaf81a118158c6f09/Fiona-1.8.13.post1-cp36-cp36m-manylinux1_x86_64.whl (14.7MB)\n",
            "\u001b[K     |████████████████████████████████| 14.7MB 209kB/s \n",
            "\u001b[?25hRequirement already satisfied: pandas>=0.23.0 in /usr/local/lib/python3.6/dist-packages (from geopandas) (1.0.3)\n",
            "Collecting pyproj>=2.2.0\n",
            "\u001b[?25l  Downloading https://files.pythonhosted.org/packages/e5/c3/071e080230ac4b6c64f1a2e2f9161c9737a2bc7b683d2c90b024825000c0/pyproj-2.6.1.post1-cp36-cp36m-manylinux2010_x86_64.whl (10.9MB)\n",
            "\u001b[K     |████████████████████████████████| 10.9MB 52.5MB/s \n",
            "\u001b[?25hRequirement already satisfied: shapely in /usr/local/lib/python3.6/dist-packages (from geopandas) (1.7.0)\n",
            "Requirement already satisfied: six>=1.7 in /usr/local/lib/python3.6/dist-packages (from fiona->geopandas) (1.12.0)\n",
            "Requirement already satisfied: attrs>=17 in /usr/local/lib/python3.6/dist-packages (from fiona->geopandas) (19.3.0)\n",
            "Requirement already satisfied: click<8,>=4.0 in /usr/local/lib/python3.6/dist-packages (from fiona->geopandas) (7.1.2)\n",
            "Collecting munch\n",
            "  Downloading https://files.pythonhosted.org/packages/cc/ab/85d8da5c9a45e072301beb37ad7f833cd344e04c817d97e0cc75681d248f/munch-2.5.0-py2.py3-none-any.whl\n",
            "Collecting click-plugins>=1.0\n",
            "  Downloading https://files.pythonhosted.org/packages/e9/da/824b92d9942f4e472702488857914bdd50f73021efea15b4cad9aca8ecef/click_plugins-1.1.1-py2.py3-none-any.whl\n",
            "Collecting cligj>=0.5\n",
            "  Downloading https://files.pythonhosted.org/packages/e4/be/30a58b4b0733850280d01f8bd132591b4668ed5c7046761098d665ac2174/cligj-0.5.0-py3-none-any.whl\n",
            "Requirement already satisfied: numpy>=1.13.3 in /usr/local/lib/python3.6/dist-packages (from pandas>=0.23.0->geopandas) (1.18.3)\n",
            "Requirement already satisfied: pytz>=2017.2 in /usr/local/lib/python3.6/dist-packages (from pandas>=0.23.0->geopandas) (2018.9)\n",
            "Requirement already satisfied: python-dateutil>=2.6.1 in /usr/local/lib/python3.6/dist-packages (from pandas>=0.23.0->geopandas) (2.8.1)\n",
            "Installing collected packages: munch, click-plugins, cligj, fiona, pyproj, geopandas\n",
            "Successfully installed click-plugins-1.1.1 cligj-0.5.0 fiona-1.8.13.post1 geopandas-0.7.0 munch-2.5.0 pyproj-2.6.1.post1\n",
            "Collecting hdbscan\n",
            "\u001b[?25l  Downloading https://files.pythonhosted.org/packages/22/2f/2423d844072f007a74214c1adc46260e45f034bb1679ccadfbb8a601f647/hdbscan-0.8.26.tar.gz (4.7MB)\n",
            "\u001b[K     |████████████████████████████████| 4.7MB 2.8MB/s \n",
            "\u001b[?25h  Installing build dependencies ... \u001b[?25l\u001b[?25hdone\n",
            "  Getting requirements to build wheel ... \u001b[?25l\u001b[?25hdone\n",
            "    Preparing wheel metadata ... \u001b[?25l\u001b[?25hdone\n",
            "Requirement already satisfied: six in /usr/local/lib/python3.6/dist-packages (from hdbscan) (1.12.0)\n",
            "Requirement already satisfied: joblib in /usr/local/lib/python3.6/dist-packages (from hdbscan) (0.14.1)\n",
            "Requirement already satisfied: numpy>=1.16.0 in /usr/local/lib/python3.6/dist-packages (from hdbscan) (1.18.3)\n",
            "Requirement already satisfied: scipy>=0.9 in /usr/local/lib/python3.6/dist-packages (from hdbscan) (1.4.1)\n",
            "Requirement already satisfied: cython>=0.27 in /usr/local/lib/python3.6/dist-packages (from hdbscan) (0.29.17)\n",
            "Requirement already satisfied: scikit-learn>=0.17 in /usr/local/lib/python3.6/dist-packages (from hdbscan) (0.22.2.post1)\n",
            "Building wheels for collected packages: hdbscan\n",
            "  Building wheel for hdbscan (PEP 517) ... \u001b[?25l\u001b[?25hdone\n",
            "  Created wheel for hdbscan: filename=hdbscan-0.8.26-cp36-cp36m-linux_x86_64.whl size=2358780 sha256=c19a3f982d54ce0348e11ec096e12908fb58980887c81d787336be46942447df\n",
            "  Stored in directory: /root/.cache/pip/wheels/82/38/41/372f034d8abd271ef7787a681e0a47fc05d472683a7eb088ed\n",
            "Successfully built hdbscan\n",
            "Installing collected packages: hdbscan\n",
            "Successfully installed hdbscan-0.8.26\n",
            "[Errno 2] No such file or directory: 'drive/My Drive/Data/MAUP'\n",
            "/content/drive/My Drive/Data/MAUP\n"
          ],
          "name": "stdout"
        }
      ]
    },
    {
      "cell_type": "markdown",
      "metadata": {
        "id": "oUF-nyuBB3EQ",
        "colab_type": "text"
      },
      "source": [
        "##### Imports"
      ]
    },
    {
      "cell_type": "code",
      "metadata": {
        "id": "EaoZ2BcMBgVI",
        "colab_type": "code",
        "colab": {}
      },
      "source": [
        "import warnings\n",
        "import os\n",
        "from datetime import datetime\n",
        "import numpy as np\n",
        "import pandas as pd\n",
        "import geopandas as gpd\n",
        "from geopandas.tools import sjoin\n",
        "from shapely.geometry import Point\n",
        "from h3 import h3\n",
        "\n",
        "\n",
        "warnings.filterwarnings('ignore')"
      ],
      "execution_count": 0,
      "outputs": []
    },
    {
      "cell_type": "markdown",
      "metadata": {
        "id": "Iy-WNCWGNHmL",
        "colab_type": "text"
      },
      "source": [
        "### Auxiliary Functions"
      ]
    },
    {
      "cell_type": "code",
      "metadata": {
        "id": "EtN7S89mNLm2",
        "colab_type": "code",
        "colab": {}
      },
      "source": [
        "def geoToHex(data, res):\n",
        "  '''\n",
        "  Computes Hexagon IDs from Latitude, Longitude data. For more information visit: https://github.com/uber/h3-py\n",
        "\n",
        "  Input: data: 2D array of geolocations [[lat, lng],]\n",
        "         res: resolution at which the hexagon should be computed.\n",
        "  Output: 1D array of hexagon ids [hex_id,]\n",
        "  '''\n",
        "  l = []\n",
        "  for i in data:\n",
        "    l.append(h3.geo_to_h3(i[0], i[1], res))\n",
        "  return l\n",
        "\n",
        "\n",
        "\n",
        "def computeMPPerHexagon(data, key, writeCsv=True):\n",
        "  '''\n",
        "  This function computes Market potential M.P for an areal unit X\n",
        "  Input: data->Pandas dataframe, key-> column for unique identifier for the area X (a hexagon)\n",
        "  Output: Pandas DataFrame: [hex_id, market_potential, total_ubertaxi_rides, total_yellowtaxi_rides] and/or csv for the same\n",
        "  \n",
        "  '''\n",
        "\n",
        "  #one-hot encde taxi type\n",
        "  x = pd.get_dummies(data['type'])\n",
        "\n",
        "  #concatenate with data\n",
        "  x = pd.concat([data,pd.get_dummies(data['type'])],axis=1)\n",
        "\n",
        "  #group by selected area : hexagon\n",
        "  x = x.groupby(key).agg({\"uber_taxi\":\"sum\", \"yellow_taxi\":\"sum\"}).reset_index()\n",
        "\n",
        "  #find market pootential\n",
        "  MP = x['yellow_taxi'] / ( x['yellow_taxi'] + x['uber_taxi'] )\n",
        "  x['market_potential'] = MP\n",
        "\n",
        "  #rename columns to their new meanings\n",
        "  x.rename(columns={key:\"h3_id\", \"uber_taxi\":\"total_ubertaxi_rides\", \"yellow_taxi\":\"total_yellowtaxi_rides\"}, inplace=True)\n",
        " \n",
        "  #generate csv for mapping on keplers\n",
        "  if(writeCsv):\n",
        "    x.to_csv(\"results/\"+key+\".csv\", index=False)\n",
        "\n",
        "  return x\n",
        "\n",
        "\n",
        "\n",
        "def computeMPPerPolygon(data, key, writeCsv=True):\n",
        "  '''\n",
        "  This function computes Market potential M.P for an areal unit X\n",
        "  Input: data->Pandas dataframe, key-> column for unique identifier for the area X (a polygon), area_geometry-> column for gemetry for area defined by key\n",
        "  Output: Pandas DataFrame: [area_id, area_geometry, market_potential, total_ubertaxi_rides, total_yellowtaxi_rides] and/or csv for the same\n",
        "  \n",
        "  '''\n",
        "  #one-hot encde taxi type\n",
        "  x = pd.get_dummies(data['type'])\n",
        "\n",
        "  #concatenate with data\n",
        "  x = pd.concat([data,pd.get_dummies(data['type'])],axis=1)\n",
        "\n",
        "  #parse to int datatype\n",
        "  x['yellow_taxi'] = x['yellow_taxi'].astype(int)\n",
        "  x['uber_taxi'] = x['uber_taxi'].astype(int)\n",
        "\n",
        "  #group by selected area : hexagon\n",
        "  x = x.groupby(key+\"_id\").agg({\"uber_taxi\":\"sum\", \"yellow_taxi\":\"sum\", key+\"_geometry\": list}).reset_index()\n",
        "\n",
        "  #extract gemetries from sets.\n",
        "  x[key+\"_geometry\"] = x[key+\"_geometry\"].apply(lambda x: x[0])\n",
        "\n",
        "  #find market pootential\n",
        "  MP = x['yellow_taxi'] / ( x['yellow_taxi'] + x['uber_taxi'] )\n",
        "  x['market_potential'] = MP\n",
        "\n",
        "  #rename columns to their new meanings\n",
        "  x.rename(columns={key:\"h3_id\", \"uber_taxi\":\"total_ubertaxi_rides\", \"yellow_taxi\":\"total_yellowtaxi_rides\"}, inplace=True)\n",
        "  \n",
        "  #generate csv for mapping on keplers\n",
        "  if(writeCsv):\n",
        "    x.to_csv(\"results\"+\"/\"+key+\".csv\", index=False)\n",
        "\n",
        "  return x\n",
        "\n",
        "\n",
        "def cutoff(data, cutoff):\n",
        "  ''' \n",
        "  This function filters a pandas dataframe by a given cutoff (an integer)\n",
        "  '''\n",
        "  data = data[ (data.total_ubertaxi_rides >= cutoff) & (data.total_yellowtaxi_rides>=cutoff)]\n",
        "  return data\n",
        "\n",
        "\n",
        "\n",
        "def getPolygon(x):\n",
        "  ''' This function computes the convex hull of a set of latitude, longitude.\n",
        "  Input: 2D numpy array of floats\n",
        "  Output: NaN if convexhull cannot be resolved\n",
        "          Shapely POLYGON geometry (the convex hull)\n",
        "  '''\n",
        "  x = x[['lon', 'lat']].values\n",
        "  x = np.unique(x, axis=0)\n",
        "  if(x.shape[0]<=2):\n",
        "    return np.nan\n",
        "  try:\n",
        "    hull = ConvexHull(x)\n",
        "    return Polygon(x[hull.vertices])\n",
        "  except:\n",
        "    return np.nan\n",
        "\n"
      ],
      "execution_count": 0,
      "outputs": []
    },
    {
      "cell_type": "markdown",
      "metadata": {
        "id": "KJl55yyjJdST",
        "colab_type": "text"
      },
      "source": [
        "### Main Code"
      ]
    },
    {
      "cell_type": "markdown",
      "metadata": {
        "id": "dttG6CjgFH68",
        "colab_type": "text"
      },
      "source": [
        "#### Optional Section"
      ]
    },
    {
      "cell_type": "markdown",
      "metadata": {
        "id": "Dws_lK9ZJgtX",
        "colab_type": "text"
      },
      "source": [
        "##### Process Raw Yellow Taxi Data"
      ]
    },
    {
      "cell_type": "code",
      "metadata": {
        "id": "P1PeCjSOWnMC",
        "colab_type": "code",
        "outputId": "cc8fe764-6d64-4ea8-9135-fcdcdd3f3402",
        "colab": {
          "base_uri": "https://localhost:8080/",
          "height": 197
        }
      },
      "source": [
        "# from google.colab import auth\n",
        "# import google.datalab.bigquery as bq\n",
        "\n",
        "\n",
        "# auth.authenticate_user()\n",
        "# os.environ['PROJECT_ID'] = 'data-275417'\n",
        "\n",
        "# Create and run a SQL query for the taxi_data from 2014, April, 01\n",
        "query = bq.Query('(SELECT pickup_datetime,  pickup_latitude, pickup_longitude FROM `bigquery-public-data.new_york.tlc_yellow_trips_2014` WHERE pickup_datetime>=\"2014-04-01 00:00:00\" AND pickup_datetime<=\"2014-04-01 23:59:59\" LIMIT 10000)')\n",
        "output_options = bq.QueryOutput.table(use_cache=False)\n",
        "result = query.execute(output_options=output_options).result()\n",
        "\n",
        "# Convert to DataFrame\n",
        "yellow_taxi = result.to_dataframe()\n",
        "yellow_taxi.drop(columns=[\"pickup_datetime\"], inplace=True)\n",
        "yellow_taxi.rename(columns={\"pickup_latitude\":\"lat\", \"pickup_longitude\":\"lon\"}, inplace=True)\n",
        "\n",
        "yellow_taxi.to_csv(\"yellowtaxi_locations_01042014.csv\", index=False)\n",
        "yellow_taxi.head()"
      ],
      "execution_count": 0,
      "outputs": [
        {
          "output_type": "execute_result",
          "data": {
            "text/html": [
              "<div>\n",
              "<style scoped>\n",
              "    .dataframe tbody tr th:only-of-type {\n",
              "        vertical-align: middle;\n",
              "    }\n",
              "\n",
              "    .dataframe tbody tr th {\n",
              "        vertical-align: top;\n",
              "    }\n",
              "\n",
              "    .dataframe thead th {\n",
              "        text-align: right;\n",
              "    }\n",
              "</style>\n",
              "<table border=\"1\" class=\"dataframe\">\n",
              "  <thead>\n",
              "    <tr style=\"text-align: right;\">\n",
              "      <th></th>\n",
              "      <th>lat</th>\n",
              "      <th>lon</th>\n",
              "    </tr>\n",
              "  </thead>\n",
              "  <tbody>\n",
              "    <tr>\n",
              "      <th>0</th>\n",
              "      <td>40.747577</td>\n",
              "      <td>-73.990733</td>\n",
              "    </tr>\n",
              "    <tr>\n",
              "      <th>1</th>\n",
              "      <td>40.734370</td>\n",
              "      <td>-73.990940</td>\n",
              "    </tr>\n",
              "    <tr>\n",
              "      <th>2</th>\n",
              "      <td>40.773287</td>\n",
              "      <td>-73.957660</td>\n",
              "    </tr>\n",
              "    <tr>\n",
              "      <th>3</th>\n",
              "      <td>40.726040</td>\n",
              "      <td>-73.989547</td>\n",
              "    </tr>\n",
              "    <tr>\n",
              "      <th>4</th>\n",
              "      <td>40.767507</td>\n",
              "      <td>-73.966557</td>\n",
              "    </tr>\n",
              "  </tbody>\n",
              "</table>\n",
              "</div>"
            ],
            "text/plain": [
              "         lat        lon\n",
              "0  40.747577 -73.990733\n",
              "1  40.734370 -73.990940\n",
              "2  40.773287 -73.957660\n",
              "3  40.726040 -73.989547\n",
              "4  40.767507 -73.966557"
            ]
          },
          "metadata": {
            "tags": []
          },
          "execution_count": 25
        }
      ]
    },
    {
      "cell_type": "markdown",
      "metadata": {
        "id": "JJw-u8b4JQ2Y",
        "colab_type": "text"
      },
      "source": [
        "##### Process Raw Uber Taxi Data"
      ]
    },
    {
      "cell_type": "code",
      "metadata": {
        "id": "sRe8sBdSDqBM",
        "colab_type": "code",
        "outputId": "f5a36601-2152-46bf-fc68-8ed744a917db",
        "colab": {
          "base_uri": "https://localhost:8080/",
          "height": 197
        }
      },
      "source": [
        "# data avaiable here: https://www.kaggle.com/fivethirtyeight/uber-pickups-in-new-york-city#uber-raw-data-apr14.csv\n",
        "uber_taxi = pd.read_csv('uber-raw-data-apr14.csv.zip', parse_dates=['Date/Time'])\n",
        "uber_taxi = uber_taxi[['Date/Time', 'Lat', 'Lon']]\n",
        "uber_taxi = uber_taxi[ (uber_taxi['Date/Time'].dt.month==4) & (uber_taxi['Date/Time'].dt.day==1)]\n",
        "uber_taxi.drop(columns=[\"Date/Time\"], inplace=True)\n",
        "uber_taxi.rename(columns={\"Lat\":\"lat\", \"Lon\":\"lon\"}, inplace=True)\n",
        "uber_taxi.head()"
      ],
      "execution_count": 0,
      "outputs": [
        {
          "output_type": "execute_result",
          "data": {
            "text/html": [
              "<div>\n",
              "<style scoped>\n",
              "    .dataframe tbody tr th:only-of-type {\n",
              "        vertical-align: middle;\n",
              "    }\n",
              "\n",
              "    .dataframe tbody tr th {\n",
              "        vertical-align: top;\n",
              "    }\n",
              "\n",
              "    .dataframe thead th {\n",
              "        text-align: right;\n",
              "    }\n",
              "</style>\n",
              "<table border=\"1\" class=\"dataframe\">\n",
              "  <thead>\n",
              "    <tr style=\"text-align: right;\">\n",
              "      <th></th>\n",
              "      <th>lat</th>\n",
              "      <th>lon</th>\n",
              "    </tr>\n",
              "  </thead>\n",
              "  <tbody>\n",
              "    <tr>\n",
              "      <th>0</th>\n",
              "      <td>40.7690</td>\n",
              "      <td>-73.9549</td>\n",
              "    </tr>\n",
              "    <tr>\n",
              "      <th>1</th>\n",
              "      <td>40.7267</td>\n",
              "      <td>-74.0345</td>\n",
              "    </tr>\n",
              "    <tr>\n",
              "      <th>2</th>\n",
              "      <td>40.7316</td>\n",
              "      <td>-73.9873</td>\n",
              "    </tr>\n",
              "    <tr>\n",
              "      <th>3</th>\n",
              "      <td>40.7588</td>\n",
              "      <td>-73.9776</td>\n",
              "    </tr>\n",
              "    <tr>\n",
              "      <th>4</th>\n",
              "      <td>40.7594</td>\n",
              "      <td>-73.9722</td>\n",
              "    </tr>\n",
              "  </tbody>\n",
              "</table>\n",
              "</div>"
            ],
            "text/plain": [
              "       lat      lon\n",
              "0  40.7690 -73.9549\n",
              "1  40.7267 -74.0345\n",
              "2  40.7316 -73.9873\n",
              "3  40.7588 -73.9776\n",
              "4  40.7594 -73.9722"
            ]
          },
          "metadata": {
            "tags": []
          },
          "execution_count": 26
        }
      ]
    },
    {
      "cell_type": "code",
      "metadata": {
        "id": "6AMIjRn4Co-k",
        "colab_type": "code",
        "colab": {}
      },
      "source": [
        "uber_taxi.to_csv(\"uber_locations_01042014.csv\", index=False)"
      ],
      "execution_count": 0,
      "outputs": []
    },
    {
      "cell_type": "markdown",
      "metadata": {
        "id": "hf8V2QPOHanI",
        "colab_type": "text"
      },
      "source": [
        "#### Data Load and Preporcessing\n",
        "\n",
        "* This section reads data for Yellow Taxis and Uber Taxis and performs the following transformations on it:\n",
        "> 1. Attach categorical column **type** to both datasets. **type** can be *yellow_taxi* or *uber_taxi*.\n",
        "> 2. Merge both dataset to create single taxi dataframe called **data**. \n",
        "> 3. Remove *null* and *0* valued latitude and longitudes"
      ]
    },
    {
      "cell_type": "markdown",
      "metadata": {
        "id": "rlBZR9t3D4zc",
        "colab_type": "text"
      },
      "source": [
        "##### Read Yellow Taxi Location Data"
      ]
    },
    {
      "cell_type": "code",
      "metadata": {
        "id": "CV3H3ipXEQU5",
        "colab_type": "code",
        "outputId": "c2a4ad22-5cff-4fed-8867-a1b0fdc6c1ff",
        "colab": {
          "base_uri": "https://localhost:8080/",
          "height": 197
        }
      },
      "source": [
        "#read processed yellow taxi locations data\n",
        "yellow_taxi = pd.read_csv(\"taxi_location_data_processed/yellowtaxi_locations_01042014.csv\")\n",
        "yellow_taxi.head()"
      ],
      "execution_count": 0,
      "outputs": [
        {
          "output_type": "execute_result",
          "data": {
            "text/html": [
              "<div>\n",
              "<style scoped>\n",
              "    .dataframe tbody tr th:only-of-type {\n",
              "        vertical-align: middle;\n",
              "    }\n",
              "\n",
              "    .dataframe tbody tr th {\n",
              "        vertical-align: top;\n",
              "    }\n",
              "\n",
              "    .dataframe thead th {\n",
              "        text-align: right;\n",
              "    }\n",
              "</style>\n",
              "<table border=\"1\" class=\"dataframe\">\n",
              "  <thead>\n",
              "    <tr style=\"text-align: right;\">\n",
              "      <th></th>\n",
              "      <th>lat</th>\n",
              "      <th>lon</th>\n",
              "    </tr>\n",
              "  </thead>\n",
              "  <tbody>\n",
              "    <tr>\n",
              "      <th>0</th>\n",
              "      <td>40.747577</td>\n",
              "      <td>-73.990733</td>\n",
              "    </tr>\n",
              "    <tr>\n",
              "      <th>1</th>\n",
              "      <td>40.734370</td>\n",
              "      <td>-73.990940</td>\n",
              "    </tr>\n",
              "    <tr>\n",
              "      <th>2</th>\n",
              "      <td>40.773287</td>\n",
              "      <td>-73.957660</td>\n",
              "    </tr>\n",
              "    <tr>\n",
              "      <th>3</th>\n",
              "      <td>40.726040</td>\n",
              "      <td>-73.989547</td>\n",
              "    </tr>\n",
              "    <tr>\n",
              "      <th>4</th>\n",
              "      <td>40.767507</td>\n",
              "      <td>-73.966557</td>\n",
              "    </tr>\n",
              "  </tbody>\n",
              "</table>\n",
              "</div>"
            ],
            "text/plain": [
              "         lat        lon\n",
              "0  40.747577 -73.990733\n",
              "1  40.734370 -73.990940\n",
              "2  40.773287 -73.957660\n",
              "3  40.726040 -73.989547\n",
              "4  40.767507 -73.966557"
            ]
          },
          "metadata": {
            "tags": []
          },
          "execution_count": 220
        }
      ]
    },
    {
      "cell_type": "code",
      "metadata": {
        "id": "hqgXg2gfEkXX",
        "colab_type": "code",
        "outputId": "8d60b0a0-281c-4194-a1c1-806ee1207a05",
        "colab": {
          "base_uri": "https://localhost:8080/",
          "height": 34
        }
      },
      "source": [
        "#find out total Yellow Taxi rides\n",
        "print(\"Total Yellow Taxi Rides: {}\".format(yellow_taxi.shape[0]))"
      ],
      "execution_count": 0,
      "outputs": [
        {
          "output_type": "stream",
          "text": [
            "Total Yellow Taxi Rides: 10000\n"
          ],
          "name": "stdout"
        }
      ]
    },
    {
      "cell_type": "code",
      "metadata": {
        "id": "gL5LW50PGfV0",
        "colab_type": "code",
        "outputId": "3c1e0744-5c7c-4013-c4c4-b4dbdb9af66b",
        "colab": {
          "base_uri": "https://localhost:8080/",
          "height": 197
        }
      },
      "source": [
        "#assing id = 1 for uber cabs\n",
        "yellow_taxi = yellow_taxi.assign(type=\"yellow_taxi\")\n",
        "yellow_taxi.head()"
      ],
      "execution_count": 0,
      "outputs": [
        {
          "output_type": "execute_result",
          "data": {
            "text/html": [
              "<div>\n",
              "<style scoped>\n",
              "    .dataframe tbody tr th:only-of-type {\n",
              "        vertical-align: middle;\n",
              "    }\n",
              "\n",
              "    .dataframe tbody tr th {\n",
              "        vertical-align: top;\n",
              "    }\n",
              "\n",
              "    .dataframe thead th {\n",
              "        text-align: right;\n",
              "    }\n",
              "</style>\n",
              "<table border=\"1\" class=\"dataframe\">\n",
              "  <thead>\n",
              "    <tr style=\"text-align: right;\">\n",
              "      <th></th>\n",
              "      <th>lat</th>\n",
              "      <th>lon</th>\n",
              "      <th>type</th>\n",
              "    </tr>\n",
              "  </thead>\n",
              "  <tbody>\n",
              "    <tr>\n",
              "      <th>0</th>\n",
              "      <td>40.747577</td>\n",
              "      <td>-73.990733</td>\n",
              "      <td>yellow_taxi</td>\n",
              "    </tr>\n",
              "    <tr>\n",
              "      <th>1</th>\n",
              "      <td>40.734370</td>\n",
              "      <td>-73.990940</td>\n",
              "      <td>yellow_taxi</td>\n",
              "    </tr>\n",
              "    <tr>\n",
              "      <th>2</th>\n",
              "      <td>40.773287</td>\n",
              "      <td>-73.957660</td>\n",
              "      <td>yellow_taxi</td>\n",
              "    </tr>\n",
              "    <tr>\n",
              "      <th>3</th>\n",
              "      <td>40.726040</td>\n",
              "      <td>-73.989547</td>\n",
              "      <td>yellow_taxi</td>\n",
              "    </tr>\n",
              "    <tr>\n",
              "      <th>4</th>\n",
              "      <td>40.767507</td>\n",
              "      <td>-73.966557</td>\n",
              "      <td>yellow_taxi</td>\n",
              "    </tr>\n",
              "  </tbody>\n",
              "</table>\n",
              "</div>"
            ],
            "text/plain": [
              "         lat        lon         type\n",
              "0  40.747577 -73.990733  yellow_taxi\n",
              "1  40.734370 -73.990940  yellow_taxi\n",
              "2  40.773287 -73.957660  yellow_taxi\n",
              "3  40.726040 -73.989547  yellow_taxi\n",
              "4  40.767507 -73.966557  yellow_taxi"
            ]
          },
          "metadata": {
            "tags": []
          },
          "execution_count": 222
        }
      ]
    },
    {
      "cell_type": "markdown",
      "metadata": {
        "id": "_s4ZljhRERhw",
        "colab_type": "text"
      },
      "source": [
        "##### Read Uber Location Data"
      ]
    },
    {
      "cell_type": "code",
      "metadata": {
        "id": "84z2X22WE3RI",
        "colab_type": "code",
        "outputId": "452aea48-8dcd-400c-f26e-980749da70db",
        "colab": {
          "base_uri": "https://localhost:8080/",
          "height": 197
        }
      },
      "source": [
        "#read processed uber locations data\n",
        "uber_taxi = pd.read_csv(\"taxi_location_data_processed/uber_locations_01042014.csv\")\n",
        "uber_taxi.head()"
      ],
      "execution_count": 0,
      "outputs": [
        {
          "output_type": "execute_result",
          "data": {
            "text/html": [
              "<div>\n",
              "<style scoped>\n",
              "    .dataframe tbody tr th:only-of-type {\n",
              "        vertical-align: middle;\n",
              "    }\n",
              "\n",
              "    .dataframe tbody tr th {\n",
              "        vertical-align: top;\n",
              "    }\n",
              "\n",
              "    .dataframe thead th {\n",
              "        text-align: right;\n",
              "    }\n",
              "</style>\n",
              "<table border=\"1\" class=\"dataframe\">\n",
              "  <thead>\n",
              "    <tr style=\"text-align: right;\">\n",
              "      <th></th>\n",
              "      <th>lat</th>\n",
              "      <th>lon</th>\n",
              "    </tr>\n",
              "  </thead>\n",
              "  <tbody>\n",
              "    <tr>\n",
              "      <th>0</th>\n",
              "      <td>40.7690</td>\n",
              "      <td>-73.9549</td>\n",
              "    </tr>\n",
              "    <tr>\n",
              "      <th>1</th>\n",
              "      <td>40.7267</td>\n",
              "      <td>-74.0345</td>\n",
              "    </tr>\n",
              "    <tr>\n",
              "      <th>2</th>\n",
              "      <td>40.7316</td>\n",
              "      <td>-73.9873</td>\n",
              "    </tr>\n",
              "    <tr>\n",
              "      <th>3</th>\n",
              "      <td>40.7588</td>\n",
              "      <td>-73.9776</td>\n",
              "    </tr>\n",
              "    <tr>\n",
              "      <th>4</th>\n",
              "      <td>40.7594</td>\n",
              "      <td>-73.9722</td>\n",
              "    </tr>\n",
              "  </tbody>\n",
              "</table>\n",
              "</div>"
            ],
            "text/plain": [
              "       lat      lon\n",
              "0  40.7690 -73.9549\n",
              "1  40.7267 -74.0345\n",
              "2  40.7316 -73.9873\n",
              "3  40.7588 -73.9776\n",
              "4  40.7594 -73.9722"
            ]
          },
          "metadata": {
            "tags": []
          },
          "execution_count": 223
        }
      ]
    },
    {
      "cell_type": "code",
      "metadata": {
        "id": "toBJ5_xkE--j",
        "colab_type": "code",
        "outputId": "15c5d959-c5e9-4617-dd96-19c5dca20c1b",
        "colab": {
          "base_uri": "https://localhost:8080/",
          "height": 34
        }
      },
      "source": [
        "#find out total uber rides\n",
        "print(\"Total Uber Rides: {}\".format(uber_taxi.shape[0]))"
      ],
      "execution_count": 0,
      "outputs": [
        {
          "output_type": "stream",
          "text": [
            "Total Uber Rides: 14546\n"
          ],
          "name": "stdout"
        }
      ]
    },
    {
      "cell_type": "code",
      "metadata": {
        "id": "DZvLQipaFl8D",
        "colab_type": "code",
        "outputId": "4c977e6a-248b-449f-e947-3896bb8742bb",
        "colab": {
          "base_uri": "https://localhost:8080/",
          "height": 197
        }
      },
      "source": [
        "#assing id = 1 for uber cabs\n",
        "uber_taxi = uber_taxi.assign(type=\"uber_taxi\")\n",
        "uber_taxi.head()"
      ],
      "execution_count": 0,
      "outputs": [
        {
          "output_type": "execute_result",
          "data": {
            "text/html": [
              "<div>\n",
              "<style scoped>\n",
              "    .dataframe tbody tr th:only-of-type {\n",
              "        vertical-align: middle;\n",
              "    }\n",
              "\n",
              "    .dataframe tbody tr th {\n",
              "        vertical-align: top;\n",
              "    }\n",
              "\n",
              "    .dataframe thead th {\n",
              "        text-align: right;\n",
              "    }\n",
              "</style>\n",
              "<table border=\"1\" class=\"dataframe\">\n",
              "  <thead>\n",
              "    <tr style=\"text-align: right;\">\n",
              "      <th></th>\n",
              "      <th>lat</th>\n",
              "      <th>lon</th>\n",
              "      <th>type</th>\n",
              "    </tr>\n",
              "  </thead>\n",
              "  <tbody>\n",
              "    <tr>\n",
              "      <th>0</th>\n",
              "      <td>40.7690</td>\n",
              "      <td>-73.9549</td>\n",
              "      <td>uber_taxi</td>\n",
              "    </tr>\n",
              "    <tr>\n",
              "      <th>1</th>\n",
              "      <td>40.7267</td>\n",
              "      <td>-74.0345</td>\n",
              "      <td>uber_taxi</td>\n",
              "    </tr>\n",
              "    <tr>\n",
              "      <th>2</th>\n",
              "      <td>40.7316</td>\n",
              "      <td>-73.9873</td>\n",
              "      <td>uber_taxi</td>\n",
              "    </tr>\n",
              "    <tr>\n",
              "      <th>3</th>\n",
              "      <td>40.7588</td>\n",
              "      <td>-73.9776</td>\n",
              "      <td>uber_taxi</td>\n",
              "    </tr>\n",
              "    <tr>\n",
              "      <th>4</th>\n",
              "      <td>40.7594</td>\n",
              "      <td>-73.9722</td>\n",
              "      <td>uber_taxi</td>\n",
              "    </tr>\n",
              "  </tbody>\n",
              "</table>\n",
              "</div>"
            ],
            "text/plain": [
              "       lat      lon       type\n",
              "0  40.7690 -73.9549  uber_taxi\n",
              "1  40.7267 -74.0345  uber_taxi\n",
              "2  40.7316 -73.9873  uber_taxi\n",
              "3  40.7588 -73.9776  uber_taxi\n",
              "4  40.7594 -73.9722  uber_taxi"
            ]
          },
          "metadata": {
            "tags": []
          },
          "execution_count": 225
        }
      ]
    },
    {
      "cell_type": "markdown",
      "metadata": {
        "id": "O6Ku5OKEFeW9",
        "colab_type": "text"
      },
      "source": [
        "##### Create All Taxis"
      ]
    },
    {
      "cell_type": "code",
      "metadata": {
        "id": "xsWFdu-nFdQD",
        "colab_type": "code",
        "outputId": "6ecbbd5e-9e3d-45cf-a2c3-83242c164ba4",
        "colab": {
          "base_uri": "https://localhost:8080/",
          "height": 197
        }
      },
      "source": [
        "#merge both datasets to generate single dataframe \n",
        "data = pd.concat([yellow_taxi, uber_taxi], axis=0)\n",
        "data.head()"
      ],
      "execution_count": 0,
      "outputs": [
        {
          "output_type": "execute_result",
          "data": {
            "text/html": [
              "<div>\n",
              "<style scoped>\n",
              "    .dataframe tbody tr th:only-of-type {\n",
              "        vertical-align: middle;\n",
              "    }\n",
              "\n",
              "    .dataframe tbody tr th {\n",
              "        vertical-align: top;\n",
              "    }\n",
              "\n",
              "    .dataframe thead th {\n",
              "        text-align: right;\n",
              "    }\n",
              "</style>\n",
              "<table border=\"1\" class=\"dataframe\">\n",
              "  <thead>\n",
              "    <tr style=\"text-align: right;\">\n",
              "      <th></th>\n",
              "      <th>lat</th>\n",
              "      <th>lon</th>\n",
              "      <th>type</th>\n",
              "    </tr>\n",
              "  </thead>\n",
              "  <tbody>\n",
              "    <tr>\n",
              "      <th>0</th>\n",
              "      <td>40.747577</td>\n",
              "      <td>-73.990733</td>\n",
              "      <td>yellow_taxi</td>\n",
              "    </tr>\n",
              "    <tr>\n",
              "      <th>1</th>\n",
              "      <td>40.734370</td>\n",
              "      <td>-73.990940</td>\n",
              "      <td>yellow_taxi</td>\n",
              "    </tr>\n",
              "    <tr>\n",
              "      <th>2</th>\n",
              "      <td>40.773287</td>\n",
              "      <td>-73.957660</td>\n",
              "      <td>yellow_taxi</td>\n",
              "    </tr>\n",
              "    <tr>\n",
              "      <th>3</th>\n",
              "      <td>40.726040</td>\n",
              "      <td>-73.989547</td>\n",
              "      <td>yellow_taxi</td>\n",
              "    </tr>\n",
              "    <tr>\n",
              "      <th>4</th>\n",
              "      <td>40.767507</td>\n",
              "      <td>-73.966557</td>\n",
              "      <td>yellow_taxi</td>\n",
              "    </tr>\n",
              "  </tbody>\n",
              "</table>\n",
              "</div>"
            ],
            "text/plain": [
              "         lat        lon         type\n",
              "0  40.747577 -73.990733  yellow_taxi\n",
              "1  40.734370 -73.990940  yellow_taxi\n",
              "2  40.773287 -73.957660  yellow_taxi\n",
              "3  40.726040 -73.989547  yellow_taxi\n",
              "4  40.767507 -73.966557  yellow_taxi"
            ]
          },
          "metadata": {
            "tags": []
          },
          "execution_count": 226
        }
      ]
    },
    {
      "cell_type": "code",
      "metadata": {
        "id": "6cPrTE7nBhym",
        "colab_type": "code",
        "outputId": "a6111b0c-3b27-4b53-94c5-41f6cf5aa423",
        "colab": {
          "base_uri": "https://localhost:8080/",
          "height": 34
        }
      },
      "source": [
        "#check total number of rides\n",
        "print(\"Total Rides: {}\".format(data.shape[0]))"
      ],
      "execution_count": 0,
      "outputs": [
        {
          "output_type": "stream",
          "text": [
            "Total Rides: 24546\n"
          ],
          "name": "stdout"
        }
      ]
    },
    {
      "cell_type": "code",
      "metadata": {
        "id": "99ShWoAxG-wP",
        "colab_type": "code",
        "outputId": "4785c2a0-4190-4f08-acc6-842f3f351989",
        "colab": {
          "base_uri": "https://localhost:8080/",
          "height": 70
        }
      },
      "source": [
        "#validate if merge took place correctly by checking value counts for ID.\n",
        "data.type.value_counts()"
      ],
      "execution_count": 0,
      "outputs": [
        {
          "output_type": "execute_result",
          "data": {
            "text/plain": [
              "uber_taxi      14546\n",
              "yellow_taxi    10000\n",
              "Name: type, dtype: int64"
            ]
          },
          "metadata": {
            "tags": []
          },
          "execution_count": 228
        }
      ]
    },
    {
      "cell_type": "code",
      "metadata": {
        "id": "AKah-ox-BXKs",
        "colab_type": "code",
        "outputId": "7f101b3a-e104-459e-eba9-d31d43fa2b70",
        "colab": {
          "base_uri": "https://localhost:8080/",
          "height": 34
        }
      },
      "source": [
        "#remove invalid lat, lon (if any)\n",
        "data = data[~(data.lat==0)]\n",
        "data = data[~(data.lon==0)]\n",
        "data = data[~(data.lat.isna())]\n",
        "data = data[~(data.lon.isna())]\n",
        "\n",
        "#check total number of rides\n",
        "print(\"Total Rides after cleanup: {}\".format(data.shape[0]))"
      ],
      "execution_count": 0,
      "outputs": [
        {
          "output_type": "stream",
          "text": [
            "Total Rides after cleanup: 24415\n"
          ],
          "name": "stdout"
        }
      ]
    },
    {
      "cell_type": "markdown",
      "metadata": {
        "id": "bHcNy4lUPvuC",
        "colab_type": "text"
      },
      "source": [
        "#### Calulating Market Potential for Socially Defined Areas\n",
        "\n",
        "* In this section, we will be calculating the **Market Potential (MP)** for each area defined by zip codes, housing, etc. \n",
        "\n",
        "* This section focuses on finding out if there are any variations in the calculated **MP** when *different* area definitions are used to calculate the same metric.\n",
        "\n",
        "* All the shapefiles used can be found here: [Data Source](https://https://geodata.lib.berkeley.edu/)\n",
        "> Areas by:\n",
        "> 1. [Zip Codes](https://geodata.lib.berkeley.edu/download/file/nyu-2451-34509-geojson.json)\n",
        "> 2. [Housing](https://geodata.lib.berkeley.edu/download/file/nyu-2451-34204-geojson.json)\n"
      ]
    },
    {
      "cell_type": "code",
      "metadata": {
        "id": "oOpKcWTXP3mb",
        "colab_type": "code",
        "outputId": "4c42d421-bec2-4a63-c5b3-e1193ade1dc0",
        "colab": {
          "base_uri": "https://localhost:8080/",
          "height": 281
        }
      },
      "source": [
        "#  setting up CRS for geospatial geometries. Find out more about it here: https://www.w3.org/2015/spatial/wiki/Coordinate_Reference_Systems\n",
        "crs = {'init': 'epsg:4326'}\n",
        "\n",
        "# convert pandas dataframe to geopandas dataframe\n",
        "data_gdf = gpd.GeoDataFrame(data, crs=crs, geometry=[Point(xy) for xy in zip(data.lon, data.lat)])\n",
        "\n",
        "# base_url for different area shapfiles for NYC\n",
        "url=\"https://geodata.lib.berkeley.edu/download/file/\"\n",
        "\n",
        "# select these shapefiles to work with. Each file represents a different area definition\n",
        "area_shape_files={\n",
        "    \n",
        "    \"nyu-2451-34509-geojson.json\":\"zip_code\",\n",
        "    \"nyu-2451-34204-geojson.json\":\"housing\"\n",
        "\n",
        "}\n",
        "\n",
        "# iterate over each area file [ you can extract the code out of the for loop to see how data transforms at each line. ]\n",
        "\n",
        "for i in area_shape_files.keys():\n",
        "  try:\n",
        "    area_gdf = gpd.read_file(url+i, crs=crs) # read geoJSON shapefile for area i\n",
        "    area_gdf = area_gdf[['id','geometry']] # use only columns id, geometry\n",
        "\n",
        "    #__spatially join our based rides data with each area. Finds out which ride happened in which area\n",
        "    data_gdf = sjoin(area_gdf, data_gdf, how='inner', op='contains') \n",
        "\n",
        "    #beautifying area ids\n",
        "    data_gdf[\"id\"] = data_gdf[\"id\"].apply(lambda x: area_shape_files[i]+\"_\"+x[15:])\n",
        "\n",
        "    #some cosmetic changes\n",
        "    data_gdf.drop(columns=[\"index_right\"], inplace=True) \n",
        "    data_gdf.rename(columns={\"id\":area_shape_files[i]+\"_\"+\"id\", \"geometry\":area_shape_files[i]+\"_\"+\"geometry\"}, inplace=True)\n",
        "\n",
        "    \n",
        "    #re-attach geos to compute over again.\n",
        "    data_gdf['geometry']=[Point(xy) for xy in zip(data_gdf.lon, data_gdf.lat)]\n",
        "\n",
        "  except:\n",
        "   print(\"Error in File: {}\".format(i))\n",
        "\n",
        "#cosmetic changes and conversion back to pandas dataframe\n",
        "data_gdf.drop(columns=[\"geometry\"], inplace=True)\n",
        "data = pd.DataFrame(data_gdf)\n",
        "data.head()"
      ],
      "execution_count": 0,
      "outputs": [
        {
          "output_type": "execute_result",
          "data": {
            "text/html": [
              "<div>\n",
              "<style scoped>\n",
              "    .dataframe tbody tr th:only-of-type {\n",
              "        vertical-align: middle;\n",
              "    }\n",
              "\n",
              "    .dataframe tbody tr th {\n",
              "        vertical-align: top;\n",
              "    }\n",
              "\n",
              "    .dataframe thead th {\n",
              "        text-align: right;\n",
              "    }\n",
              "</style>\n",
              "<table border=\"1\" class=\"dataframe\">\n",
              "  <thead>\n",
              "    <tr style=\"text-align: right;\">\n",
              "      <th></th>\n",
              "      <th>housing_id</th>\n",
              "      <th>housing_geometry</th>\n",
              "      <th>election_id</th>\n",
              "      <th>election_geometry</th>\n",
              "      <th>zip_code_id</th>\n",
              "      <th>zip_code_geometry</th>\n",
              "      <th>lat</th>\n",
              "      <th>lon</th>\n",
              "      <th>type</th>\n",
              "    </tr>\n",
              "  </thead>\n",
              "  <tbody>\n",
              "    <tr>\n",
              "      <th>0</th>\n",
              "      <td>housing_1</td>\n",
              "      <td>MULTIPOLYGON (((-73.92390 40.71978, -73.92397 ...</td>\n",
              "      <td>election_4465</td>\n",
              "      <td>MULTIPOLYGON (((-73.92412 40.71769, -73.92410 ...</td>\n",
              "      <td>zip_code_129</td>\n",
              "      <td>MULTIPOLYGON (((-73.95568 40.72394, -73.95627 ...</td>\n",
              "      <td>40.716000</td>\n",
              "      <td>-73.934200</td>\n",
              "      <td>uber_taxi</td>\n",
              "    </tr>\n",
              "    <tr>\n",
              "      <th>0</th>\n",
              "      <td>housing_1</td>\n",
              "      <td>MULTIPOLYGON (((-73.92390 40.71978, -73.92397 ...</td>\n",
              "      <td>election_4465</td>\n",
              "      <td>MULTIPOLYGON (((-73.92412 40.71769, -73.92410 ...</td>\n",
              "      <td>zip_code_129</td>\n",
              "      <td>MULTIPOLYGON (((-73.95568 40.72394, -73.95627 ...</td>\n",
              "      <td>40.716100</td>\n",
              "      <td>-73.934300</td>\n",
              "      <td>uber_taxi</td>\n",
              "    </tr>\n",
              "    <tr>\n",
              "      <th>0</th>\n",
              "      <td>housing_1</td>\n",
              "      <td>MULTIPOLYGON (((-73.92390 40.71978, -73.92397 ...</td>\n",
              "      <td>election_3609</td>\n",
              "      <td>MULTIPOLYGON (((-73.92781 40.72506, -73.92920 ...</td>\n",
              "      <td>zip_code_140</td>\n",
              "      <td>MULTIPOLYGON (((-73.95568 40.72394, -73.95615 ...</td>\n",
              "      <td>40.721200</td>\n",
              "      <td>-73.938300</td>\n",
              "      <td>uber_taxi</td>\n",
              "    </tr>\n",
              "    <tr>\n",
              "      <th>0</th>\n",
              "      <td>housing_1</td>\n",
              "      <td>MULTIPOLYGON (((-73.92390 40.71978, -73.92397 ...</td>\n",
              "      <td>election_3609</td>\n",
              "      <td>MULTIPOLYGON (((-73.92781 40.72506, -73.92920 ...</td>\n",
              "      <td>zip_code_140</td>\n",
              "      <td>MULTIPOLYGON (((-73.95568 40.72394, -73.95615 ...</td>\n",
              "      <td>40.723605</td>\n",
              "      <td>-73.938512</td>\n",
              "      <td>yellow_taxi</td>\n",
              "    </tr>\n",
              "    <tr>\n",
              "      <th>0</th>\n",
              "      <td>housing_1</td>\n",
              "      <td>MULTIPOLYGON (((-73.92390 40.71978, -73.92397 ...</td>\n",
              "      <td>election_3609</td>\n",
              "      <td>MULTIPOLYGON (((-73.92781 40.72506, -73.92920 ...</td>\n",
              "      <td>zip_code_140</td>\n",
              "      <td>MULTIPOLYGON (((-73.95568 40.72394, -73.95615 ...</td>\n",
              "      <td>40.724500</td>\n",
              "      <td>-73.936400</td>\n",
              "      <td>uber_taxi</td>\n",
              "    </tr>\n",
              "  </tbody>\n",
              "</table>\n",
              "</div>"
            ],
            "text/plain": [
              "  housing_id  ...         type\n",
              "0  housing_1  ...    uber_taxi\n",
              "0  housing_1  ...    uber_taxi\n",
              "0  housing_1  ...    uber_taxi\n",
              "0  housing_1  ...  yellow_taxi\n",
              "0  housing_1  ...    uber_taxi\n",
              "\n",
              "[5 rows x 9 columns]"
            ]
          },
          "metadata": {
            "tags": []
          },
          "execution_count": 114
        }
      ]
    },
    {
      "cell_type": "code",
      "metadata": {
        "id": "uQQ_6ZXICOzo",
        "colab_type": "code",
        "outputId": "775feb20-38de-4e37-cbab-437234924034",
        "colab": {
          "base_uri": "https://localhost:8080/",
          "height": 364
        }
      },
      "source": [
        "#re-arraning columns for ease of understanding\n",
        "column_order = [\"type\",\"lat\", \"lon\"] + [x for x in data.columns if x not in [\"type\",\"lat\", \"lon\"]]\n",
        "data = data[column_order]\n",
        "data.head()"
      ],
      "execution_count": 0,
      "outputs": [
        {
          "output_type": "execute_result",
          "data": {
            "text/html": [
              "<div>\n",
              "<style scoped>\n",
              "    .dataframe tbody tr th:only-of-type {\n",
              "        vertical-align: middle;\n",
              "    }\n",
              "\n",
              "    .dataframe tbody tr th {\n",
              "        vertical-align: top;\n",
              "    }\n",
              "\n",
              "    .dataframe thead th {\n",
              "        text-align: right;\n",
              "    }\n",
              "</style>\n",
              "<table border=\"1\" class=\"dataframe\">\n",
              "  <thead>\n",
              "    <tr style=\"text-align: right;\">\n",
              "      <th></th>\n",
              "      <th>type</th>\n",
              "      <th>lat</th>\n",
              "      <th>lon</th>\n",
              "      <th>housing_id</th>\n",
              "      <th>housing_geometry</th>\n",
              "      <th>election_id</th>\n",
              "      <th>election_geometry</th>\n",
              "      <th>zip_code_id</th>\n",
              "      <th>zip_code_geometry</th>\n",
              "    </tr>\n",
              "  </thead>\n",
              "  <tbody>\n",
              "    <tr>\n",
              "      <th>0</th>\n",
              "      <td>uber_taxi</td>\n",
              "      <td>40.716000</td>\n",
              "      <td>-73.934200</td>\n",
              "      <td>nyu_2451_34204.1</td>\n",
              "      <td>MULTIPOLYGON (((-73.92390 40.71978, -73.92397 ...</td>\n",
              "      <td>nyu_2451_34206.4465</td>\n",
              "      <td>MULTIPOLYGON (((-73.92412 40.71769, -73.92410 ...</td>\n",
              "      <td>nyu_2451_34509.129</td>\n",
              "      <td>MULTIPOLYGON (((-73.95568 40.72394, -73.95627 ...</td>\n",
              "    </tr>\n",
              "    <tr>\n",
              "      <th>0</th>\n",
              "      <td>uber_taxi</td>\n",
              "      <td>40.716100</td>\n",
              "      <td>-73.934300</td>\n",
              "      <td>nyu_2451_34204.1</td>\n",
              "      <td>MULTIPOLYGON (((-73.92390 40.71978, -73.92397 ...</td>\n",
              "      <td>nyu_2451_34206.4465</td>\n",
              "      <td>MULTIPOLYGON (((-73.92412 40.71769, -73.92410 ...</td>\n",
              "      <td>nyu_2451_34509.129</td>\n",
              "      <td>MULTIPOLYGON (((-73.95568 40.72394, -73.95627 ...</td>\n",
              "    </tr>\n",
              "    <tr>\n",
              "      <th>0</th>\n",
              "      <td>uber_taxi</td>\n",
              "      <td>40.721200</td>\n",
              "      <td>-73.938300</td>\n",
              "      <td>nyu_2451_34204.1</td>\n",
              "      <td>MULTIPOLYGON (((-73.92390 40.71978, -73.92397 ...</td>\n",
              "      <td>nyu_2451_34206.3609</td>\n",
              "      <td>MULTIPOLYGON (((-73.92781 40.72506, -73.92920 ...</td>\n",
              "      <td>nyu_2451_34509.140</td>\n",
              "      <td>MULTIPOLYGON (((-73.95568 40.72394, -73.95615 ...</td>\n",
              "    </tr>\n",
              "    <tr>\n",
              "      <th>0</th>\n",
              "      <td>yellow_taxi</td>\n",
              "      <td>40.723605</td>\n",
              "      <td>-73.938512</td>\n",
              "      <td>nyu_2451_34204.1</td>\n",
              "      <td>MULTIPOLYGON (((-73.92390 40.71978, -73.92397 ...</td>\n",
              "      <td>nyu_2451_34206.3609</td>\n",
              "      <td>MULTIPOLYGON (((-73.92781 40.72506, -73.92920 ...</td>\n",
              "      <td>nyu_2451_34509.140</td>\n",
              "      <td>MULTIPOLYGON (((-73.95568 40.72394, -73.95615 ...</td>\n",
              "    </tr>\n",
              "    <tr>\n",
              "      <th>0</th>\n",
              "      <td>uber_taxi</td>\n",
              "      <td>40.724500</td>\n",
              "      <td>-73.936400</td>\n",
              "      <td>nyu_2451_34204.1</td>\n",
              "      <td>MULTIPOLYGON (((-73.92390 40.71978, -73.92397 ...</td>\n",
              "      <td>nyu_2451_34206.3609</td>\n",
              "      <td>MULTIPOLYGON (((-73.92781 40.72506, -73.92920 ...</td>\n",
              "      <td>nyu_2451_34509.140</td>\n",
              "      <td>MULTIPOLYGON (((-73.95568 40.72394, -73.95615 ...</td>\n",
              "    </tr>\n",
              "  </tbody>\n",
              "</table>\n",
              "</div>"
            ],
            "text/plain": [
              "          type  ...                                  zip_code_geometry\n",
              "0    uber_taxi  ...  MULTIPOLYGON (((-73.95568 40.72394, -73.95627 ...\n",
              "0    uber_taxi  ...  MULTIPOLYGON (((-73.95568 40.72394, -73.95627 ...\n",
              "0    uber_taxi  ...  MULTIPOLYGON (((-73.95568 40.72394, -73.95615 ...\n",
              "0  yellow_taxi  ...  MULTIPOLYGON (((-73.95568 40.72394, -73.95615 ...\n",
              "0    uber_taxi  ...  MULTIPOLYGON (((-73.95568 40.72394, -73.95615 ...\n",
              "\n",
              "[5 rows x 9 columns]"
            ]
          },
          "metadata": {
            "tags": []
          },
          "execution_count": 103
        }
      ]
    },
    {
      "cell_type": "code",
      "metadata": {
        "id": "esxx2jhdPs-a",
        "colab_type": "code",
        "colab": {}
      },
      "source": [
        "#calclating M.P fo each area type\n",
        "housing = computeMPPerPolygon(data, \"housing\")\n",
        "zip_code = computeMPPerPolygon(data, \"zip_code\")"
      ],
      "execution_count": 0,
      "outputs": []
    },
    {
      "cell_type": "markdown",
      "metadata": {
        "id": "R68jK75vwTmM",
        "colab_type": "text"
      },
      "source": [
        "#### Calulating Market Potential for Hexagons\n",
        "\n",
        "* In this section, we restrict our analysis to a particular **shape** to understand and find out if it helps solve the Shape problem in MAUP. \n",
        "\n",
        "* Here, we are using HEXAGONS as the shape. Also, we analyse Market Potential at different **scales** to find out wether restricting shape helps or not.\n",
        "\n",
        "* We'll be using Uber's H3 library to get the hexagons for each lat, lng. More information on it can be found here: [Uber H3](https://https://github.com/uber/h3)\n",
        "\n"
      ]
    },
    {
      "cell_type": "code",
      "metadata": {
        "id": "Pj7BiI3MsTP-",
        "colab_type": "code",
        "colab": {}
      },
      "source": [
        "# various hexagon resolutions to be used\n",
        "resolutions = [7,8,9]\n",
        "for i in resolutions:\n",
        "  data[\"h3_id_\"+str(i)] = geoToHex(data[['lat', 'lon']].values, i)"
      ],
      "execution_count": 0,
      "outputs": []
    },
    {
      "cell_type": "code",
      "metadata": {
        "id": "BL82EUb-H5iG",
        "colab_type": "code",
        "outputId": "bd01e8d1-373a-48db-94f6-2d6d9d5b1ded",
        "colab": {
          "base_uri": "https://localhost:8080/",
          "height": 467
        }
      },
      "source": [
        "data.head()"
      ],
      "execution_count": 0,
      "outputs": [
        {
          "output_type": "execute_result",
          "data": {
            "text/html": [
              "<div>\n",
              "<style scoped>\n",
              "    .dataframe tbody tr th:only-of-type {\n",
              "        vertical-align: middle;\n",
              "    }\n",
              "\n",
              "    .dataframe tbody tr th {\n",
              "        vertical-align: top;\n",
              "    }\n",
              "\n",
              "    .dataframe thead th {\n",
              "        text-align: right;\n",
              "    }\n",
              "</style>\n",
              "<table border=\"1\" class=\"dataframe\">\n",
              "  <thead>\n",
              "    <tr style=\"text-align: right;\">\n",
              "      <th></th>\n",
              "      <th>housing_id</th>\n",
              "      <th>housing_geometry</th>\n",
              "      <th>election_id</th>\n",
              "      <th>election_geometry</th>\n",
              "      <th>zip_code_id</th>\n",
              "      <th>zip_code_geometry</th>\n",
              "      <th>lat</th>\n",
              "      <th>lon</th>\n",
              "      <th>type</th>\n",
              "      <th>h3_id_7</th>\n",
              "      <th>h3_id_8</th>\n",
              "      <th>h3_id_9</th>\n",
              "      <th>h3_id_10</th>\n",
              "    </tr>\n",
              "  </thead>\n",
              "  <tbody>\n",
              "    <tr>\n",
              "      <th>0</th>\n",
              "      <td>housing_1</td>\n",
              "      <td>MULTIPOLYGON (((-73.92390 40.71978, -73.92397 ...</td>\n",
              "      <td>election_4465</td>\n",
              "      <td>MULTIPOLYGON (((-73.92412 40.71769, -73.92410 ...</td>\n",
              "      <td>zip_code_129</td>\n",
              "      <td>MULTIPOLYGON (((-73.95568 40.72394, -73.95627 ...</td>\n",
              "      <td>40.716000</td>\n",
              "      <td>-73.934200</td>\n",
              "      <td>uber_taxi</td>\n",
              "      <td>872a100d1ffffff</td>\n",
              "      <td>882a100d13fffff</td>\n",
              "      <td>892a100d137ffff</td>\n",
              "      <td>8a2a100d134ffff</td>\n",
              "    </tr>\n",
              "    <tr>\n",
              "      <th>0</th>\n",
              "      <td>housing_1</td>\n",
              "      <td>MULTIPOLYGON (((-73.92390 40.71978, -73.92397 ...</td>\n",
              "      <td>election_4465</td>\n",
              "      <td>MULTIPOLYGON (((-73.92412 40.71769, -73.92410 ...</td>\n",
              "      <td>zip_code_129</td>\n",
              "      <td>MULTIPOLYGON (((-73.95568 40.72394, -73.95627 ...</td>\n",
              "      <td>40.716100</td>\n",
              "      <td>-73.934300</td>\n",
              "      <td>uber_taxi</td>\n",
              "      <td>872a100d1ffffff</td>\n",
              "      <td>882a100d13fffff</td>\n",
              "      <td>892a100d137ffff</td>\n",
              "      <td>8a2a100d134ffff</td>\n",
              "    </tr>\n",
              "    <tr>\n",
              "      <th>0</th>\n",
              "      <td>housing_1</td>\n",
              "      <td>MULTIPOLYGON (((-73.92390 40.71978, -73.92397 ...</td>\n",
              "      <td>election_3609</td>\n",
              "      <td>MULTIPOLYGON (((-73.92781 40.72506, -73.92920 ...</td>\n",
              "      <td>zip_code_140</td>\n",
              "      <td>MULTIPOLYGON (((-73.95568 40.72394, -73.95615 ...</td>\n",
              "      <td>40.721200</td>\n",
              "      <td>-73.938300</td>\n",
              "      <td>uber_taxi</td>\n",
              "      <td>872a100d1ffffff</td>\n",
              "      <td>882a100d11fffff</td>\n",
              "      <td>892a100d107ffff</td>\n",
              "      <td>8a2a100d106ffff</td>\n",
              "    </tr>\n",
              "    <tr>\n",
              "      <th>0</th>\n",
              "      <td>housing_1</td>\n",
              "      <td>MULTIPOLYGON (((-73.92390 40.71978, -73.92397 ...</td>\n",
              "      <td>election_3609</td>\n",
              "      <td>MULTIPOLYGON (((-73.92781 40.72506, -73.92920 ...</td>\n",
              "      <td>zip_code_140</td>\n",
              "      <td>MULTIPOLYGON (((-73.95568 40.72394, -73.95615 ...</td>\n",
              "      <td>40.723605</td>\n",
              "      <td>-73.938512</td>\n",
              "      <td>yellow_taxi</td>\n",
              "      <td>872a100d1ffffff</td>\n",
              "      <td>882a100d11fffff</td>\n",
              "      <td>892a100d117ffff</td>\n",
              "      <td>8a2a100d115ffff</td>\n",
              "    </tr>\n",
              "    <tr>\n",
              "      <th>0</th>\n",
              "      <td>housing_1</td>\n",
              "      <td>MULTIPOLYGON (((-73.92390 40.71978, -73.92397 ...</td>\n",
              "      <td>election_3609</td>\n",
              "      <td>MULTIPOLYGON (((-73.92781 40.72506, -73.92920 ...</td>\n",
              "      <td>zip_code_140</td>\n",
              "      <td>MULTIPOLYGON (((-73.95568 40.72394, -73.95615 ...</td>\n",
              "      <td>40.724500</td>\n",
              "      <td>-73.936400</td>\n",
              "      <td>uber_taxi</td>\n",
              "      <td>872a100d1ffffff</td>\n",
              "      <td>882a100d11fffff</td>\n",
              "      <td>892a100d117ffff</td>\n",
              "      <td>8a2a100d116ffff</td>\n",
              "    </tr>\n",
              "  </tbody>\n",
              "</table>\n",
              "</div>"
            ],
            "text/plain": [
              "  housing_id  ...         h3_id_10\n",
              "0  housing_1  ...  8a2a100d134ffff\n",
              "0  housing_1  ...  8a2a100d134ffff\n",
              "0  housing_1  ...  8a2a100d106ffff\n",
              "0  housing_1  ...  8a2a100d115ffff\n",
              "0  housing_1  ...  8a2a100d116ffff\n",
              "\n",
              "[5 rows x 13 columns]"
            ]
          },
          "metadata": {
            "tags": []
          },
          "execution_count": 189
        }
      ]
    },
    {
      "cell_type": "code",
      "metadata": {
        "id": "vnDu7GPu53U0",
        "colab_type": "code",
        "colab": {}
      },
      "source": [
        "#calculatin M.Ps per hexagonal area\n",
        "resolutions = [7,8,9]\n",
        "for i in resolutions:\n",
        "  computeMPPerHexagon(data, \"h3_id_\"+str(i))"
      ],
      "execution_count": 0,
      "outputs": []
    },
    {
      "cell_type": "markdown",
      "metadata": {
        "id": "0i-s1Wa79sgV",
        "colab_type": "text"
      },
      "source": [
        "Using these data files, we plotted the results on our platform. You can use any other visualisation tool too such as Folium, Plotly, etc.\n",
        "\n",
        "![alt text](https://)"
      ]
    },
    {
      "cell_type": "markdown",
      "metadata": {
        "id": "tOJKfEga2B7n",
        "colab_type": "text"
      },
      "source": [
        "#### Infered Areas"
      ]
    },
    {
      "cell_type": "code",
      "metadata": {
        "id": "KMDTlOuV2EC8",
        "colab_type": "code",
        "colab": {}
      },
      "source": [
        "from sklearn.cluster import OPTICS, DBSCAN\n",
        "from geopy.distance import great_circle\n",
        "from shapely.geometry import MultiPoint\n",
        "import hdbscan\n"
      ],
      "execution_count": 0,
      "outputs": []
    },
    {
      "cell_type": "code",
      "metadata": {
        "id": "UwX52oDpxjcB",
        "colab_type": "code",
        "outputId": "b9793c7d-f383-44f5-be0c-e822a1ceba93",
        "colab": {
          "base_uri": "https://localhost:8080/",
          "height": 230
        }
      },
      "source": [
        "coords = data[['lat', 'lon']].values\n",
        "kms_per_radian = 6371.0088\n",
        "epsilon = 100\n",
        "db = OPTICS(max_eps=epsilon, min_samples = 2, min_cluster_size=5, algorithm='ball_tree', metric='haversine').fit(np.radians(coords))\n",
        "cluster_labels = db.labels_\n",
        "data[\"cluster_id\"] = cluster_labels\n",
        "data.cluster_id.value_counts()"
      ],
      "execution_count": 0,
      "outputs": [
        {
          "output_type": "execute_result",
          "data": {
            "text/plain": [
              "-1       10520\n",
              " 146        49\n",
              " 110        22\n",
              " 1521       20\n",
              " 145        18\n",
              "         ...  \n",
              " 376         5\n",
              " 360         5\n",
              " 344         5\n",
              " 312         5\n",
              " 0           5\n",
              "Name: cluster_id, Length: 1884, dtype: int64"
            ]
          },
          "metadata": {
            "tags": []
          },
          "execution_count": 196
        }
      ]
    },
    {
      "cell_type": "code",
      "metadata": {
        "id": "quE_QKGuE1gg",
        "colab_type": "code",
        "outputId": "0f36f43d-7fe6-4efb-f9c1-3d4b8ea6de3f",
        "colab": {
          "base_uri": "https://localhost:8080/",
          "height": 520
        }
      },
      "source": [
        "x = data\n",
        "coords = np.radians(x[['lat', 'lon']].values)\n",
        "clusterer = hdbscan.HDBSCAN(metric='haversine', min_cluster_size=15,cluster_selection_epsilon=0.03/6371, min_samples=2)\n",
        "clusterer.fit(coords)\n",
        "cluster_labels = clusterer.labels_\n",
        "x[\"cluster_id\"] = cluster_labels\n",
        "print(\"Noise Total: {} out of {} @ {}%\".format(x[x.cluster_id==-1].shape[0], x.shape[0], x[x.cluster_id==-1].shape[0]*100/x.shape[0]))\n",
        "x = x[x.cluster_id!=-1]\n",
        "x.cluster_id.value_counts().value_counts().plot(kind='barh', figsize=(20, 8))"
      ],
      "execution_count": 0,
      "outputs": [
        {
          "output_type": "stream",
          "text": [
            "Noise Total: 4517 out of 24415 @ 18.500921564611918%\n"
          ],
          "name": "stdout"
        },
        {
          "output_type": "execute_result",
          "data": {
            "text/plain": [
              "<matplotlib.axes._subplots.AxesSubplot at 0x7fbd225fd390>"
            ]
          },
          "metadata": {
            "tags": []
          },
          "execution_count": 250
        },
        {
          "output_type": "display_data",
          "data": {
            "image/png": "[encoded data removed]",
            "text/plain": [
              "<Figure size 1440x576 with 1 Axes>"
            ]
          },
          "metadata": {
            "tags": [],
            "needs_background": "light"
          }
        }
      ]
    },
    {
      "cell_type": "code",
      "metadata": {
        "id": "99x9ygLVLZ_c",
        "colab_type": "code",
        "colab": {}
      },
      "source": [
        "data[\"cluster_id\"] = cluster_labels"
      ],
      "execution_count": 0,
      "outputs": []
    },
    {
      "cell_type": "code",
      "metadata": {
        "id": "_u30hIHkKFBS",
        "colab_type": "code",
        "colab": {}
      },
      "source": [
        "from shapely.geometry import Polygon, MultiPolygon\n",
        "from scipy.spatial import ConvexHull\n",
        "from shapely.geometry import MultiPoint\n",
        "\n",
        "\n",
        "\n",
        "x = pd.DataFrame(data.groupby(\"cluster_id\").apply(getPolygon)).reset_index()\n",
        "data = pd.merge(data, x, on = \"cluster_id\",how=\"left\")\n",
        "data.dropna(inplace=True)\n",
        "data.rename(columns={0:\"infered_area_geometry\", \"cluster_id\":\"infered_area_id\"}, inplace=True)"
      ],
      "execution_count": 0,
      "outputs": []
    },
    {
      "cell_type": "code",
      "metadata": {
        "id": "TqcNgeDvLlii",
        "colab_type": "code",
        "outputId": "1a890832-1932-46c3-83b2-527a16620b80",
        "colab": {
          "base_uri": "https://localhost:8080/",
          "height": 406
        }
      },
      "source": [
        "data"
      ],
      "execution_count": 0,
      "outputs": [
        {
          "output_type": "execute_result",
          "data": {
            "text/html": [
              "<div>\n",
              "<style scoped>\n",
              "    .dataframe tbody tr th:only-of-type {\n",
              "        vertical-align: middle;\n",
              "    }\n",
              "\n",
              "    .dataframe tbody tr th {\n",
              "        vertical-align: top;\n",
              "    }\n",
              "\n",
              "    .dataframe thead th {\n",
              "        text-align: right;\n",
              "    }\n",
              "</style>\n",
              "<table border=\"1\" class=\"dataframe\">\n",
              "  <thead>\n",
              "    <tr style=\"text-align: right;\">\n",
              "      <th></th>\n",
              "      <th>lat</th>\n",
              "      <th>lon</th>\n",
              "      <th>type</th>\n",
              "      <th>infered_area_id</th>\n",
              "      <th>infered_area_geometry</th>\n",
              "    </tr>\n",
              "  </thead>\n",
              "  <tbody>\n",
              "    <tr>\n",
              "      <th>0</th>\n",
              "      <td>40.747577</td>\n",
              "      <td>-73.990733</td>\n",
              "      <td>yellow_taxi</td>\n",
              "      <td>-1</td>\n",
              "      <td>POLYGON ((-74.1148 40.3082, -73.417 40.7735, -...</td>\n",
              "    </tr>\n",
              "    <tr>\n",
              "      <th>1</th>\n",
              "      <td>40.734370</td>\n",
              "      <td>-73.990940</td>\n",
              "      <td>yellow_taxi</td>\n",
              "      <td>359</td>\n",
              "      <td>POLYGON ((-73.989254 40.734418, -73.989983 40....</td>\n",
              "    </tr>\n",
              "    <tr>\n",
              "      <th>2</th>\n",
              "      <td>40.773287</td>\n",
              "      <td>-73.957660</td>\n",
              "      <td>yellow_taxi</td>\n",
              "      <td>257</td>\n",
              "      <td>POLYGON ((-73.9594 40.7752, -73.9603 40.7738, ...</td>\n",
              "    </tr>\n",
              "    <tr>\n",
              "      <th>3</th>\n",
              "      <td>40.726040</td>\n",
              "      <td>-73.989547</td>\n",
              "      <td>yellow_taxi</td>\n",
              "      <td>150</td>\n",
              "      <td>POLYGON ((-73.9892 40.7263, -73.9903 40.7257, ...</td>\n",
              "    </tr>\n",
              "    <tr>\n",
              "      <th>4</th>\n",
              "      <td>40.767507</td>\n",
              "      <td>-73.966557</td>\n",
              "      <td>yellow_taxi</td>\n",
              "      <td>226</td>\n",
              "      <td>POLYGON ((-73.9661 40.7688, -73.966942 40.7673...</td>\n",
              "    </tr>\n",
              "    <tr>\n",
              "      <th>...</th>\n",
              "      <td>...</td>\n",
              "      <td>...</td>\n",
              "      <td>...</td>\n",
              "      <td>...</td>\n",
              "      <td>...</td>\n",
              "    </tr>\n",
              "    <tr>\n",
              "      <th>24410</th>\n",
              "      <td>40.721900</td>\n",
              "      <td>-73.992000</td>\n",
              "      <td>uber_taxi</td>\n",
              "      <td>-1</td>\n",
              "      <td>POLYGON ((-74.1148 40.3082, -73.417 40.7735, -...</td>\n",
              "    </tr>\n",
              "    <tr>\n",
              "      <th>24411</th>\n",
              "      <td>40.726100</td>\n",
              "      <td>-74.002700</td>\n",
              "      <td>uber_taxi</td>\n",
              "      <td>320</td>\n",
              "      <td>POLYGON ((-74.00291 40.728152, -74.003668 40.7...</td>\n",
              "    </tr>\n",
              "    <tr>\n",
              "      <th>24412</th>\n",
              "      <td>40.736400</td>\n",
              "      <td>-73.992600</td>\n",
              "      <td>uber_taxi</td>\n",
              "      <td>321</td>\n",
              "      <td>POLYGON ((-73.992401 40.738121, -73.99386 40.7...</td>\n",
              "    </tr>\n",
              "    <tr>\n",
              "      <th>24413</th>\n",
              "      <td>40.714900</td>\n",
              "      <td>-73.940500</td>\n",
              "      <td>uber_taxi</td>\n",
              "      <td>-1</td>\n",
              "      <td>POLYGON ((-74.1148 40.3082, -73.417 40.7735, -...</td>\n",
              "    </tr>\n",
              "    <tr>\n",
              "      <th>24414</th>\n",
              "      <td>40.749300</td>\n",
              "      <td>-73.976800</td>\n",
              "      <td>uber_taxi</td>\n",
              "      <td>-1</td>\n",
              "      <td>POLYGON ((-74.1148 40.3082, -73.417 40.7735, -...</td>\n",
              "    </tr>\n",
              "  </tbody>\n",
              "</table>\n",
              "<p>24415 rows × 5 columns</p>\n",
              "</div>"
            ],
            "text/plain": [
              "             lat  ...                              infered_area_geometry\n",
              "0      40.747577  ...  POLYGON ((-74.1148 40.3082, -73.417 40.7735, -...\n",
              "1      40.734370  ...  POLYGON ((-73.989254 40.734418, -73.989983 40....\n",
              "2      40.773287  ...  POLYGON ((-73.9594 40.7752, -73.9603 40.7738, ...\n",
              "3      40.726040  ...  POLYGON ((-73.9892 40.7263, -73.9903 40.7257, ...\n",
              "4      40.767507  ...  POLYGON ((-73.9661 40.7688, -73.966942 40.7673...\n",
              "...          ...  ...                                                ...\n",
              "24410  40.721900  ...  POLYGON ((-74.1148 40.3082, -73.417 40.7735, -...\n",
              "24411  40.726100  ...  POLYGON ((-74.00291 40.728152, -74.003668 40.7...\n",
              "24412  40.736400  ...  POLYGON ((-73.992401 40.738121, -73.99386 40.7...\n",
              "24413  40.714900  ...  POLYGON ((-74.1148 40.3082, -73.417 40.7735, -...\n",
              "24414  40.749300  ...  POLYGON ((-74.1148 40.3082, -73.417 40.7735, -...\n",
              "\n",
              "[24415 rows x 5 columns]"
            ]
          },
          "metadata": {
            "tags": []
          },
          "execution_count": 254
        }
      ]
    },
    {
      "cell_type": "code",
      "metadata": {
        "id": "jKhblOxVLmuv",
        "colab_type": "code",
        "colab": {}
      },
      "source": [
        "x = computeMPPerPolygon(data, \"infered_area\")"
      ],
      "execution_count": 0,
      "outputs": []
    },
    {
      "cell_type": "markdown",
      "metadata": {
        "id": "z4YDTmKbMUcU",
        "colab_type": "text"
      },
      "source": [
        "#### Anaylsis of M.P\n",
        "\n",
        "* This section focuses on analysing the Market Potential based on different areas obtained so far.\n",
        "\n",
        "* We will be finding top 5 Market Potential Areas by the different area definitions we have made so far."
      ]
    },
    {
      "cell_type": "code",
      "metadata": {
        "id": "EBGQIuLQMYUM",
        "colab_type": "code",
        "colab": {}
      },
      "source": [
        "zip_code = pd.read_csv(\"results/zip_code.csv\")\n",
        "housing = pd.read_csv(\"results/housing.csv\")\n",
        "h3_id_7 = pd.read_csv(\"results/h3_id_7.csv\")\n",
        "h3_id_8 = pd.read_csv(\"results/h3_id_8.csv\")\n",
        "h3_id_9 = pd.read_csv(\"results/h3_id_9.csv\")\n",
        "infered = pd.read_csv(\"results/infered_area.csv\")"
      ],
      "execution_count": 0,
      "outputs": []
    },
    {
      "cell_type": "code",
      "metadata": {
        "id": "hCOxuQVwOxWZ",
        "colab_type": "code",
        "colab": {}
      },
      "source": [
        "housing = cutoff(housing, 10)\n",
        "zip_code = cutoff(zip_code, 10)\n",
        "h3_id_7 = cutoff(h3_id_7, 10)\n",
        "h3_id_8 = cutoff(h3_id_8, 10)\n",
        "h3_id_9 = cutoff(h3_id_9, 10)\n",
        "infered = cutoff(infered, 10)"
      ],
      "execution_count": 0,
      "outputs": []
    },
    {
      "cell_type": "code",
      "metadata": {
        "id": "zFEjtCxTNZ6N",
        "colab_type": "code",
        "colab": {}
      },
      "source": [
        "housing.nlargest(5, 'market_potential').to_csv(\"results/top5_mp_areas_by_housing.csv\", index=False)\n",
        "zip_code.nlargest(5, 'market_potential').to_csv(\"results/top5_mp_areas_by_zip_code.csv\", index=False)\n",
        "h3_id_7.nlargest(5, 'market_potential').to_csv(\"results/top5_mp_areas_by_hexagon_7.csv\", index=False)\n",
        "h3_id_8.nlargest(5, 'market_potential').to_csv(\"results/top5_mp_areas_by_hexagon_8.csv\", index=False)\n",
        "h3_id_9.nlargest(5, 'market_potential').to_csv(\"results/top5_mp_areas_by_hexagon_9.csv\", index=False)\n",
        "infered.nlargest(5, 'market_potential').to_csv(\"results/top5_mp_areas_by_infered_area.csv\", index=False)"
      ],
      "execution_count": 0,
      "outputs": []
    }
  ]
}